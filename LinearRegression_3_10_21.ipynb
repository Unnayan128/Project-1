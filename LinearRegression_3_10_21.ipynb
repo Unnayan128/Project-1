{
  "nbformat": 4,
  "nbformat_minor": 0,
  "metadata": {
    "colab": {
      "name": "LinearRegression_3/10/21.ipynb",
      "provenance": [],
      "authorship_tag": "ABX9TyMr/aTpDM24LtcwsvbjZCVz",
      "include_colab_link": true
    },
    "kernelspec": {
      "name": "python3",
      "display_name": "Python 3"
    }
  },
  "cells": [
    {
      "cell_type": "markdown",
      "metadata": {
        "id": "view-in-github",
        "colab_type": "text"
      },
      "source": [
        "<a href=\"https://colab.research.google.com/github/Unnayan128/Project-1/blob/main/LinearRegression_3_10_21.ipynb\" target=\"_parent\"><img src=\"https://colab.research.google.com/assets/colab-badge.svg\" alt=\"Open In Colab\"/></a>"
      ]
    },
    {
      "cell_type": "code",
      "metadata": {
        "id": "rk1wscCQJ8yg"
      },
      "source": [
        "import matplotlib.pyplot as plt #used for plot making \r\n",
        "import numpy as np # numerical python\r\n",
        "from sklearn import datasets,linear_model #linear_model and dataset\r\n",
        "from sklearn.metrics import mean_squared_error "
      ],
      "execution_count": 47,
      "outputs": []
    },
    {
      "cell_type": "code",
      "metadata": {
        "colab": {
          "base_uri": "https://localhost:8080/"
        },
        "id": "UCC_Fo_ag3nv",
        "outputId": "e1f9055b-2fa9-4567-e0c5-fad1de31b470"
      },
      "source": [
        "diabetes= datasets.load_diabetes()#from datasets class \r\n",
        "#print(diabetes.keys())\r\n",
        "#dict_keys(['data', 'target', 'DESCR', 'feature_names', 'data_filename', 'target_filename'])\r\n",
        "#print(diabetes.DESCR) #SHOW THE DESCR \r\n",
        "#diabetes_X = diabetes.data[:,2]\r\n",
        "#print(diabetes_X)\r\n",
        "#diabetes_X = diabetes.data[:,np.newaxis,2] #it gives us arrays of array\r\n",
        "diabetes_X=diabetes.data\r\n",
        "\r\n",
        "print(diabetes_X)\r\n",
        "diabetes_X_train = diabetes_X[:-30]\r\n",
        "diabetes_X_test = diabetes_X[-30:]\r\n",
        "diabetes_y_train = diabetes.target[:-30]\r\n",
        "diabetes_y_test = diabetes.target[-30:]\r\n",
        "model = linear_model.LinearRegression()\r\n",
        "model.fit(diabetes_X_train,diabetes_y_train)\r\n",
        "diabetes_y_predicted=model.predict(diabetes_X_test)\r\n",
        "print(\"Mean squared error is : \", mean_squared_error(diabetes_y_test, diabetes_y_predicted))\r\n",
        "print(\"Weights\",model.coef_)\r\n",
        "print(\"Intercept\",model.intercept_)\r\n",
        "#line = model.coef_*diabetes_X_test+model.intercept_\r\n",
        "#plt.scatter(diabetes_X_test,diabetes_y_test)\r\n",
        "#plt.plot(diabetes_X_test,line)\r\n",
        "#plt.show()\r\n",
        "\r\n",
        "\r\n",
        "\r\n",
        "\r\n",
        "\r\n",
        "\r\n",
        "\r\n"
      ],
      "execution_count": 53,
      "outputs": [
        {
          "output_type": "stream",
          "text": [
            "[[ 0.03807591  0.05068012  0.06169621 ... -0.00259226  0.01990842\n",
            "  -0.01764613]\n",
            " [-0.00188202 -0.04464164 -0.05147406 ... -0.03949338 -0.06832974\n",
            "  -0.09220405]\n",
            " [ 0.08529891  0.05068012  0.04445121 ... -0.00259226  0.00286377\n",
            "  -0.02593034]\n",
            " ...\n",
            " [ 0.04170844  0.05068012 -0.01590626 ... -0.01107952 -0.04687948\n",
            "   0.01549073]\n",
            " [-0.04547248 -0.04464164  0.03906215 ...  0.02655962  0.04452837\n",
            "  -0.02593034]\n",
            " [-0.04547248 -0.04464164 -0.0730303  ... -0.03949338 -0.00421986\n",
            "   0.00306441]]\n",
            "Mean squared error is :  1826.5364191345423\n",
            "Weights [  -1.16924976 -237.18461486  518.30606657  309.04865826 -763.14121622\n",
            "  458.90999325   80.62441437  174.32183366  721.49712065   79.19307944]\n",
            "Intercept 153.05827988224112\n"
          ],
          "name": "stdout"
        }
      ]
    },
    {
      "cell_type": "code",
      "metadata": {
        "id": "SHJ17NNpVAeK"
      },
      "source": [
        ""
      ],
      "execution_count": 48,
      "outputs": []
    }
  ]
}